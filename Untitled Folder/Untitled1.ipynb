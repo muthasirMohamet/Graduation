{
 "cells": [
  {
   "cell_type": "code",
   "execution_count": 9,
   "id": "1052d630-8f80-442b-92b1-9ad8fb45c0a9",
   "metadata": {},
   "outputs": [
    {
     "name": "stdout",
     "output_type": "stream",
     "text": [
      "Requirement already satisfied: TikTokApi in c:\\users\\pc\\anaconda3\\lib\\site-packages (7.0.0)\n",
      "Requirement already satisfied: requests in c:\\users\\pc\\appdata\\roaming\\python\\python312\\site-packages (from TikTokApi) (2.32.3)\n",
      "Requirement already satisfied: playwright in c:\\users\\pc\\appdata\\roaming\\python\\python312\\site-packages (from TikTokApi) (1.49.1)\n",
      "Requirement already satisfied: httpx in c:\\users\\pc\\appdata\\roaming\\python\\python312\\site-packages (from TikTokApi) (0.28.1)\n",
      "Requirement already satisfied: anyio in c:\\users\\pc\\appdata\\roaming\\python\\python312\\site-packages (from httpx->TikTokApi) (4.8.0)\n",
      "Requirement already satisfied: certifi in c:\\users\\pc\\anaconda3\\lib\\site-packages (from httpx->TikTokApi) (2024.12.14)\n",
      "Requirement already satisfied: httpcore==1.* in c:\\users\\pc\\appdata\\roaming\\python\\python312\\site-packages (from httpx->TikTokApi) (1.0.7)\n",
      "Requirement already satisfied: idna in c:\\users\\pc\\appdata\\roaming\\python\\python312\\site-packages (from httpx->TikTokApi) (3.10)\n",
      "Requirement already satisfied: h11<0.15,>=0.13 in c:\\users\\pc\\appdata\\roaming\\python\\python312\\site-packages (from httpcore==1.*->httpx->TikTokApi) (0.14.0)\n",
      "Requirement already satisfied: greenlet==3.1.1 in c:\\users\\pc\\appdata\\roaming\\python\\python312\\site-packages (from playwright->TikTokApi) (3.1.1)\n",
      "Requirement already satisfied: pyee==12.0.0 in c:\\users\\pc\\appdata\\roaming\\python\\python312\\site-packages (from playwright->TikTokApi) (12.0.0)\n",
      "Requirement already satisfied: typing-extensions in c:\\users\\pc\\appdata\\roaming\\python\\python312\\site-packages (from pyee==12.0.0->playwright->TikTokApi) (4.12.2)\n",
      "Requirement already satisfied: charset-normalizer<4,>=2 in c:\\users\\pc\\appdata\\roaming\\python\\python312\\site-packages (from requests->TikTokApi) (3.4.1)\n",
      "Requirement already satisfied: urllib3<3,>=1.21.1 in c:\\users\\pc\\appdata\\roaming\\python\\python312\\site-packages (from requests->TikTokApi) (2.3.0)\n",
      "Requirement already satisfied: sniffio>=1.1 in c:\\users\\pc\\appdata\\roaming\\python\\python312\\site-packages (from anyio->httpx->TikTokApi) (1.3.1)\n",
      "Note: you may need to restart the kernel to use updated packages.\n"
     ]
    }
   ],
   "source": [
    "pip install --upgrade TikTokApi\n"
   ]
  },
  {
   "cell_type": "code",
   "execution_count": 13,
   "id": "c5cd5080-df73-4224-9c2e-22e40ac8b478",
   "metadata": {},
   "outputs": [
    {
     "name": "stdout",
     "output_type": "stream",
     "text": [
      "{'log_pb': {'impr_id': '202502031758044CE71DB89FFC3F826AED'}, 'status_code': 5, 'status_msg': ''}\n",
      "No comments found in the response.\n"
     ]
    }
   ],
   "source": [
    "import requests\n",
    "import csv\n",
    "\n",
    "video_url = \"https://www.tiktok.com/@anuu__21/photo/7415536407583755525\"\n",
    "video_id = video_url.split('/')[-1]  # Extract the video ID from the URL\n",
    "\n",
    "# Manually fetch comments\n",
    "headers = {\n",
    "    'User-Agent': 'Mozilla/5.0 (Windows NT 10.0; Win64; x64) AppleWebKit/537.36 (KHTML, like Gecko) Chrome/58.0.3029.110 Safari/537.36',\n",
    "}\n",
    "\n",
    "params = {\n",
    "    'aweme_id': video_id,\n",
    "    'count': 20,  # Number of comments to fetch\n",
    "}\n",
    "\n",
    "response = requests.get('https://www.tiktok.com/api/comment/list/', headers=headers, params=params)\n",
    "\n",
    "if response.status_code == 200:\n",
    "    comments = response.json()\n",
    "    \n",
    "    # Print the response to inspect its structure\n",
    "    print(comments)  # This will show you the entire JSON response structure\n",
    "    \n",
    "    # Extract the comments and save them to a list\n",
    "    if 'comments' in comments:\n",
    "        comments_data = []\n",
    "        for comment in comments['comments']:\n",
    "            comments_data.append({\n",
    "                'Username': comment['user']['nickname'],\n",
    "                'Comment': comment['text']\n",
    "            })\n",
    "        \n",
    "        # Save comments to CSV\n",
    "        with open('tiktok_comments.csv', mode='w', newline='', encoding='utf-8') as file:\n",
    "            writer = csv.DictWriter(file, fieldnames=['Username', 'Comment'])\n",
    "            writer.writeheader()\n",
    "            writer.writerows(comments_data)\n",
    "        \n",
    "        print(\"Comments have been saved to 'tiktok_comments.csv'.\")\n",
    "    else:\n",
    "        print(\"No comments found in the response.\")\n",
    "else:\n",
    "    print(\"Failed to fetch comments.\")\n"
   ]
  }
 ],
 "metadata": {
  "kernelspec": {
   "display_name": "Python 3 (ipykernel)",
   "language": "python",
   "name": "python3"
  },
  "language_info": {
   "codemirror_mode": {
    "name": "ipython",
    "version": 3
   },
   "file_extension": ".py",
   "mimetype": "text/x-python",
   "name": "python",
   "nbconvert_exporter": "python",
   "pygments_lexer": "ipython3",
   "version": "3.12.4"
  }
 },
 "nbformat": 4,
 "nbformat_minor": 5
}
