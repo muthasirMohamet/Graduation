{
 "cells": [
  {
   "cell_type": "code",
   "execution_count": 1,
   "id": "c0335c90-73b1-4773-879f-250701531701",
   "metadata": {},
   "outputs": [
    {
     "name": "stdout",
     "output_type": "stream",
     "text": [
      "Note: you may need to restart the kernel to use updated packages.\n"
     ]
    },
    {
     "name": "stderr",
     "output_type": "stream",
     "text": [
      "ERROR: Could not find a version that satisfies the requirement facebook (from versions: none)\n",
      "ERROR: No matching distribution found for facebook\n"
     ]
    }
   ],
   "source": [
    "pip install facebook\n",
    "pip install pandas"
   ]
  },
  {
   "cell_type": "code",
   "execution_count": null,
   "id": "e9526e5f-83ea-4e6c-989e-89edf37b9a5b",
   "metadata": {},
   "outputs": [],
   "source": [
    "post_id = '1079818327251707'"
   ]
  },
  {
   "cell_type": "code",
   "execution_count": 3,
   "id": "a50a4a8b-37c0-46bb-bc2a-1dd485568689",
   "metadata": {},
   "outputs": [
    {
     "name": "stdout",
     "output_type": "stream",
     "text": [
      "Requirement already satisfied: selenium in c:\\users\\pc\\anaconda3\\lib\\site-packages (4.27.1)\n",
      "Requirement already satisfied: beautifulsoup4 in c:\\users\\pc\\anaconda3\\lib\\site-packages (4.12.3)\n",
      "Requirement already satisfied: pandas in c:\\users\\pc\\appdata\\roaming\\python\\python312\\site-packages (2.2.3)\n",
      "Requirement already satisfied: openpyxl in c:\\users\\pc\\anaconda3\\lib\\site-packages (3.1.2)\n",
      "Requirement already satisfied: urllib3<3,>=1.26 in c:\\users\\pc\\appdata\\roaming\\python\\python312\\site-packages (from urllib3[socks]<3,>=1.26->selenium) (2.3.0)\n",
      "Requirement already satisfied: trio~=0.17 in c:\\users\\pc\\anaconda3\\lib\\site-packages (from selenium) (0.28.0)\n",
      "Requirement already satisfied: trio-websocket~=0.9 in c:\\users\\pc\\anaconda3\\lib\\site-packages (from selenium) (0.11.1)\n",
      "Requirement already satisfied: certifi>=2021.10.8 in c:\\users\\pc\\anaconda3\\lib\\site-packages (from selenium) (2024.6.2)\n",
      "Requirement already satisfied: typing_extensions~=4.9 in c:\\users\\pc\\appdata\\roaming\\python\\python312\\site-packages (from selenium) (4.12.2)\n",
      "Requirement already satisfied: websocket-client~=1.8 in c:\\users\\pc\\anaconda3\\lib\\site-packages (from selenium) (1.8.0)\n",
      "Requirement already satisfied: soupsieve>1.2 in c:\\users\\pc\\anaconda3\\lib\\site-packages (from beautifulsoup4) (2.5)\n",
      "Requirement already satisfied: numpy>=1.26.0 in c:\\users\\pc\\anaconda3\\lib\\site-packages (from pandas) (1.26.4)\n",
      "Requirement already satisfied: python-dateutil>=2.8.2 in c:\\users\\pc\\appdata\\roaming\\python\\python312\\site-packages (from pandas) (2.9.0.post0)\n",
      "Requirement already satisfied: pytz>=2020.1 in c:\\users\\pc\\appdata\\roaming\\python\\python312\\site-packages (from pandas) (2024.2)\n",
      "Requirement already satisfied: tzdata>=2022.7 in c:\\users\\pc\\appdata\\roaming\\python\\python312\\site-packages (from pandas) (2024.2)\n",
      "Requirement already satisfied: et-xmlfile in c:\\users\\pc\\anaconda3\\lib\\site-packages (from openpyxl) (1.1.0)\n",
      "Requirement already satisfied: six>=1.5 in c:\\users\\pc\\appdata\\roaming\\python\\python312\\site-packages (from python-dateutil>=2.8.2->pandas) (1.16.0)\n",
      "Requirement already satisfied: attrs>=23.2.0 in c:\\users\\pc\\anaconda3\\lib\\site-packages (from trio~=0.17->selenium) (24.3.0)\n",
      "Requirement already satisfied: sortedcontainers in c:\\users\\pc\\anaconda3\\lib\\site-packages (from trio~=0.17->selenium) (2.4.0)\n",
      "Requirement already satisfied: idna in c:\\users\\pc\\appdata\\roaming\\python\\python312\\site-packages (from trio~=0.17->selenium) (3.10)\n",
      "Requirement already satisfied: outcome in c:\\users\\pc\\anaconda3\\lib\\site-packages (from trio~=0.17->selenium) (1.3.0.post0)\n",
      "Requirement already satisfied: sniffio>=1.3.0 in c:\\users\\pc\\appdata\\roaming\\python\\python312\\site-packages (from trio~=0.17->selenium) (1.3.1)\n",
      "Requirement already satisfied: cffi>=1.14 in c:\\users\\pc\\anaconda3\\lib\\site-packages (from trio~=0.17->selenium) (1.16.0)\n",
      "Requirement already satisfied: wsproto>=0.14 in c:\\users\\pc\\anaconda3\\lib\\site-packages (from trio-websocket~=0.9->selenium) (1.2.0)\n",
      "Requirement already satisfied: pysocks!=1.5.7,<2.0,>=1.5.6 in c:\\users\\pc\\anaconda3\\lib\\site-packages (from urllib3[socks]<3,>=1.26->selenium) (1.7.1)\n",
      "Requirement already satisfied: pycparser in c:\\users\\pc\\anaconda3\\lib\\site-packages (from cffi>=1.14->trio~=0.17->selenium) (2.21)\n",
      "Requirement already satisfied: h11<1,>=0.9.0 in c:\\users\\pc\\appdata\\roaming\\python\\python312\\site-packages (from wsproto>=0.14->trio-websocket~=0.9->selenium) (0.14.0)\n"
     ]
    }
   ],
   "source": [
    "# profile_id = 'https://www.facebook.com/MunasarMohamedAbd'\n",
    "!pip install selenium beautifulsoup4 pandas openpyxl\n"
   ]
  },
  {
   "cell_type": "code",
   "execution_count": 3,
   "id": "70d59a0d-3814-448d-ade3-fab9aa1f5ff1",
   "metadata": {},
   "outputs": [
    {
     "name": "stdin",
     "output_type": "stream",
     "text": [
      "Log in manually and press Enter to continue... \n"
     ]
    },
    {
     "name": "stdout",
     "output_type": "stream",
     "text": [
      "Saved 801 comments!\n"
     ]
    }
   ],
   "source": [
    "from selenium import webdriver\n",
    "from selenium.webdriver.common.by import By\n",
    "from selenium.webdriver.support.ui import WebDriverWait\n",
    "from selenium.webdriver.support import expected_conditions as EC\n",
    "from bs4 import BeautifulSoup\n",
    "import pandas as pd\n",
    "import time\n",
    "\n",
    "# Set up Selenium WebDriver\n",
    "options = webdriver.ChromeOptions()\n",
    "options.add_argument(\"--start-maximized\")\n",
    "# options.add_argument(\"--headless\")  # Uncomment for headless mode\n",
    "driver = webdriver.Chrome(options=options)\n",
    "\n",
    "def load_all_comments():\n",
    "    \"\"\"Scroll within the comment section to load all comments.\"\"\"\n",
    "    try:\n",
    "        # Wait for the comment section to load\n",
    "        comment_section = WebDriverWait(driver, 20).until(\n",
    "            EC.presence_of_element_located((By.XPATH, \"//div[contains(@class, 'x9f619') and contains(@class, 'x1n2onr6')]\"))\n",
    "        )\n",
    "\n",
    "        # Click \"View more comments\" if it exists\n",
    "        while True:\n",
    "            try:\n",
    "                view_more_button = WebDriverWait(comment_section, 5).until(\n",
    "                    EC.element_to_be_clickable((By.XPATH, \".//div[@role='button' and contains(., 'View more comments')]\"))\n",
    "                )\n",
    "                driver.execute_script(\"arguments[0].click();\", view_more_button)\n",
    "                time.sleep(2)\n",
    "            except:\n",
    "                break  # Exit if no more \"View more comments\" buttons\n",
    "\n",
    "        # Scroll inside the comment section to load all comments\n",
    "        last_height = 0\n",
    "        while True:\n",
    "            # Scroll to the bottom of the comment section\n",
    "            driver.execute_script(\"arguments[0].scrollTop = arguments[0].scrollHeight\", comment_section)\n",
    "            time.sleep(3)  # Wait for comments to load\n",
    "\n",
    "            # Check if new comments were loaded\n",
    "            new_height = driver.execute_script(\"return arguments[0].scrollHeight\", comment_section)\n",
    "            if new_height == last_height:\n",
    "                break\n",
    "            last_height = new_height\n",
    "\n",
    "    except Exception as e:\n",
    "        print(\"Error loading comments:\", e)\n",
    "\n",
    "try:\n",
    "    # Open Facebook video URL\n",
    "    driver.get(\"https://www.facebook.com/photo/?fbid=1129572312294282&set=a.759281365990047\")\n",
    "    \n",
    "    # Wait for manual login\n",
    "    input(\"Log in manually and press Enter to continue...\")\n",
    "\n",
    "    # Wait for the page to load\n",
    "    time.sleep(5)\n",
    "\n",
    "    # Load all comments\n",
    "    load_all_comments()\n",
    "\n",
    "    # Parse the page with BeautifulSoup\n",
    "    soup = BeautifulSoup(driver.page_source, \"html.parser\")\n",
    "\n",
    "    # Extract comments (updated selectors)\n",
    "    comments = []\n",
    "    comment_blocks = soup.select(\"div.x1lliihq.xjkvuk6.x1iorvi4\")  # Updated selector for comments\n",
    "    for block in comment_blocks:\n",
    "        author = block.select_one(\"strong span\")  # Author name\n",
    "        comment_text = block.select_one(\"div.xdj266r\")  # Comment text\n",
    "        timestamp = block.select_one(\"abbr\")  # Timestamp\n",
    "        \n",
    "        comments.append({\n",
    "            \"Author\": author.text if author else \"N/A\",\n",
    "            \"Comment\": comment_text.text if comment_text else \"\",\n",
    "            \"Timestamp\": timestamp[\"data-utime\"] if timestamp else \"\"\n",
    "        })\n",
    "\n",
    "    # Save to Excel\n",
    "    df = pd.DataFrame(comments)\n",
    "    df.to_excel(\"facebook_video_comments.xlsx\", index=False)\n",
    "    print(f\"Saved {len(comments)} comments!\")\n",
    "\n",
    "except Exception as e:\n",
    "    print(\"An error occurred:\", e)\n",
    "\n",
    "finally:\n",
    "    driver.quit()"
   ]
  },
  {
   "cell_type": "code",
   "execution_count": null,
   "id": "9530e382-db4b-425d-9f16-27b7ba7b66a3",
   "metadata": {},
   "outputs": [],
   "source": []
  }
 ],
 "metadata": {
  "kernelspec": {
   "display_name": "Python 3 (ipykernel)",
   "language": "python",
   "name": "python3"
  },
  "language_info": {
   "codemirror_mode": {
    "name": "ipython",
    "version": 3
   },
   "file_extension": ".py",
   "mimetype": "text/x-python",
   "name": "python",
   "nbconvert_exporter": "python",
   "pygments_lexer": "ipython3",
   "version": "3.12.4"
  }
 },
 "nbformat": 4,
 "nbformat_minor": 5
}
